{
 "metadata": {
  "language_info": {
   "codemirror_mode": {
    "name": "ipython",
    "version": 3
   },
   "file_extension": ".py",
   "mimetype": "text/x-python",
   "name": "python",
   "nbconvert_exporter": "python",
   "pygments_lexer": "ipython3",
   "version": "3.7.3-final"
  },
  "orig_nbformat": 2,
  "kernelspec": {
   "name": "python3",
   "display_name": "Python 3.7.3 64-bit ('base': conda)",
   "metadata": {
    "interpreter": {
     "hash": "aae828927c15cfca72cd7eff2d4b7bec25dd4964d075af6a4af2cd5d33f4c967"
    }
   }
  }
 },
 "nbformat": 4,
 "nbformat_minor": 2,
 "cells": [
  {
   "source": [
    "학습목표\n",
    "1. 문자열 이해하기\n",
    "\n",
    "String(문자열)\n",
    "- 복수개의 문자를 순서대로 나열 한 것\n",
    "- 문자열은 '(작은따옴표) 혹은 \"(큰따옴표) 사이에 문자를 넣어서 생성\n",
    "- 문자열 자체에 ',\"가 있는 경우에는 각각 그 반대의 기호로 생성\n",
    "\n",
    "''' ''' 사용하여 표현 가능\n",
    "- 차이점\n",
    "  - '',\"\"-> 한줄 문자열 표현\n",
    "  - ''' ''' -> 여러줄에 걸쳐 문자열 표한 가능\n",
    "  \n",
    "\n"
   ],
   "cell_type": "markdown",
   "metadata": {}
  },
  {
   "cell_type": "code",
   "execution_count": 15,
   "metadata": {},
   "outputs": [
    {
     "output_type": "stream",
     "name": "stdout",
     "text": [
      "Hello world\nHello world\n\"Hello\" world\nhello world. It's wonderful world\n"
     ]
    }
   ],
   "source": [
    "a = 'Hello world'\n",
    "b = \"Hello world\"\n",
    "c = '\"Hello\" world'\n",
    "d = \"hello world. It's wonderful world\"\n",
    "print(a)\n",
    "print(b)\n",
    "print(c)\n",
    "print(d)"
   ]
  },
  {
   "cell_type": "code",
   "execution_count": 16,
   "metadata": {},
   "outputs": [
    {
     "output_type": "stream",
     "name": "stdout",
     "text": [
      "Hello w\n\norld\nHello \n        world\n"
     ]
    }
   ],
   "source": [
    "\n",
    "c = '''Hello w\n",
    "\n",
    "orld'''\n",
    "d = \"\"\"Hello \n",
    "        world\"\"\"\n",
    "\n",
    "print(c)\n",
    "print(d)"
   ]
  },
  {
   "source": [
    "escape string(이스케이프 문자)\n",
    "- 문자열내의 일부 문자의 의미를 달리하여 특정한 효과를 주는 것\n",
    "- \\n : new line \\t : tab 등"
   ],
   "cell_type": "markdown",
   "metadata": {}
  },
  {
   "cell_type": "code",
   "execution_count": 18,
   "metadata": {},
   "outputs": [
    {
     "output_type": "stream",
     "name": "stdout",
     "text": [
      "Hello world\n\n\nHa\thahaha\n"
     ]
    }
   ],
   "source": [
    "print('Hello world\\n\\n')\n",
    "print('Ha\\thahaha')"
   ]
  },
  {
   "cell_type": "code",
   "execution_count": null,
   "metadata": {},
   "outputs": [],
   "source": []
  }
 ]
}