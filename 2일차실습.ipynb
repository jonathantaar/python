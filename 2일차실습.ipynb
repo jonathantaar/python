{
 "metadata": {
  "language_info": {
   "codemirror_mode": {
    "name": "ipython",
    "version": 3
   },
   "file_extension": ".py",
   "mimetype": "text/x-python",
   "name": "python",
   "nbconvert_exporter": "python",
   "pygments_lexer": "ipython3",
   "version": "3.7.3-final"
  },
  "orig_nbformat": 2,
  "kernelspec": {
   "name": "python3",
   "display_name": "Python 3.7.3 64-bit ('base': conda)",
   "metadata": {
    "interpreter": {
     "hash": "aae828927c15cfca72cd7eff2d4b7bec25dd4964d075af6a4af2cd5d33f4c967"
    }
   }
  }
 },
 "nbformat": 4,
 "nbformat_minor": 2,
 "cells": [
  {
   "source": [
    "type 함수\n",
    "- 해당 변수, 값의 타입(type)을 알고자 할때 사용\n"
   ],
   "cell_type": "markdown",
   "metadata": {}
  },
  {
   "cell_type": "code",
   "execution_count": 4,
   "metadata": {},
   "outputs": [
    {
     "output_type": "execute_result",
     "data": {
      "text/plain": [
       "float"
      ]
     },
     "metadata": {},
     "execution_count": 4
    }
   ],
   "source": [
    "a = 10\n",
    "b = 11.45\n",
    "\n",
    "type(a)\n",
    "type(b)"
   ]
  },
  {
   "source": [
    "none\n",
    "- 아무런 값을 갖지 않을 때 사용\n",
    "- 일반적으로 변수가 초기값을 갖지 않게 하여 해당 변수를 생성할 때 사용\n",
    "- 기타 언어의 NULL,nil등과 같은 의미로 사용"
   ],
   "cell_type": "markdown",
   "metadata": {}
  },
  {
   "cell_type": "code",
   "execution_count": 5,
   "metadata": {},
   "outputs": [
    {
     "output_type": "stream",
     "name": "stdout",
     "text": [
      "None\n"
     ]
    }
   ],
   "source": [
    "c = None #변수를 쓸때는 항상 값을 초기화\n",
    "print(c)"
   ]
  },
  {
   "source": [
    "comparison operator(비교연산자)\n",
    "- 프로그래밍에서는 비교를 할 경우, = 대신 ==를 사용\n",
    "- <,>(작다,크다)\n",
    "- <=,>=(작거나 같다, 크거나 같다)\n",
    "- == 같다\n",
    "- != 같지 않다\n",
    "- 비교연산자의 결과는 bool타입"
   ],
   "cell_type": "markdown",
   "metadata": {}
  },
  {
   "cell_type": "code",
   "execution_count": 16,
   "metadata": {},
   "outputs": [
    {
     "output_type": "stream",
     "name": "stdout",
     "text": [
      "False\nTrue\nTrue\nFalse\nFalse\nTrue\nTrue\n<class 'bool'>\n"
     ]
    }
   ],
   "source": [
    "a = 5\n",
    "b = 4\n",
    "print(a == b)\n",
    "print(a != b)\n",
    "print(a >= b)\n",
    "print(a <= b)\n",
    "print(a < b)\n",
    "print(a > b)\n",
    "\n",
    "c = a > b\n",
    "print(c)\n",
    "print(type(c))"
   ]
  },
  {
   "source": [
    "number(숫자형 타입)\n",
    "- 정수,실수로 구성\n",
    "- 수학의 기본 연산자(가감승제) 사용 가능"
   ],
   "cell_type": "markdown",
   "metadata": {}
  },
  {
   "cell_type": "code",
   "execution_count": 17,
   "metadata": {},
   "outputs": [
    {
     "output_type": "stream",
     "name": "stdout",
     "text": [
      "9\n20\n1\n1.25\n1\n625\n"
     ]
    }
   ],
   "source": [
    "a = 5\n",
    "b = 4\n",
    "print(a + b)\n",
    "print(a * b)\n",
    "print(a - b)\n",
    "print(a / b)\n",
    "print(a % b)\n",
    "print(a ** b) #지수승"
   ]
  },
  {
   "source": [
    "operator priorities(연산자 우선순위)\n",
    "- 기본적인 수학의 연산자와 동일\n",
    "- 강제로 연산을 선수하기 위해서는, 괄호()를 사용"
   ],
   "cell_type": "markdown",
   "metadata": {}
  },
  {
   "cell_type": "code",
   "execution_count": 19,
   "metadata": {},
   "outputs": [
    {
     "output_type": "stream",
     "name": "stdout",
     "text": [
      "21\n36\n"
     ]
    }
   ],
   "source": [
    "a = 5\n",
    "b = 4\n",
    "print(a + b * 4)\n",
    "print((a +b ) * 4)\n"
   ]
  },
  {
   "source": [
    "- 연습문제 \n",
    " 다음의 각 값을 출력 했을 때 결과는 ?"
   ],
   "cell_type": "markdown",
   "metadata": {}
  },
  {
   "cell_type": "code",
   "execution_count": 20,
   "metadata": {},
   "outputs": [
    {
     "output_type": "stream",
     "name": "stdout",
     "text": [
      "9\n6\n9\n"
     ]
    }
   ],
   "source": [
    "a = 9\n",
    "print(a)\n",
    "print(a - 3)\n",
    "print(a)"
   ]
  },
  {
   "source": [
    "expression evalution & assignment (식 평가 & 대입)"
   ],
   "cell_type": "markdown",
   "metadata": {}
  },
  {
   "cell_type": "code",
   "execution_count": 21,
   "metadata": {},
   "outputs": [
    {
     "output_type": "stream",
     "name": "stdout",
     "text": [
      "9\n"
     ]
    }
   ],
   "source": [
    "a = 9\n",
    "a-3\n",
    "print(a)"
   ]
  },
  {
   "cell_type": "code",
   "execution_count": 23,
   "metadata": {},
   "outputs": [
    {
     "output_type": "stream",
     "name": "stdout",
     "text": [
      "6\n"
     ]
    }
   ],
   "source": [
    "a = 9\n",
    "a = a - 3\n",
    "#a = t\n",
    "print(a)\n"
   ]
  },
  {
   "cell_type": "code",
   "execution_count": null,
   "metadata": {},
   "outputs": [],
   "source": []
  }
 ]
}