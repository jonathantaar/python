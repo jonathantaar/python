{
 "metadata": {
  "language_info": {
   "codemirror_mode": {
    "name": "ipython",
    "version": 3
   },
   "file_extension": ".py",
   "mimetype": "text/x-python",
   "name": "python",
   "nbconvert_exporter": "python",
   "pygments_lexer": "ipython3",
   "version": "3.7.3-final"
  },
  "orig_nbformat": 2,
  "kernelspec": {
   "name": "python3",
   "display_name": "Python 3.7.3 64-bit ('base': conda)",
   "metadata": {
    "interpreter": {
     "hash": "aae828927c15cfca72cd7eff2d4b7bec25dd4964d075af6a4af2cd5d33f4c967"
    }
   }
  }
 },
 "nbformat": 4,
 "nbformat_minor": 2,
 "cells": [
  {
   "source": [
    "학습목표\n",
    "1. beautifulsoup 모듈 사용\n"
   ],
   "cell_type": "markdown",
   "metadata": {}
  },
  {
   "cell_type": "code",
   "execution_count": 1,
   "metadata": {},
   "outputs": [],
   "source": [
    "from bs4 import BeautifulSoup"
   ]
  },
  {
   "source": [
    "html 문자열 파싱\n",
    "- 문자열로 정의된 html 데이터 파싱\n"
   ],
   "cell_type": "markdown",
   "metadata": {}
  },
  {
   "source": [
    "html = '''\n",
    "<html>\n",
    "    <head>\n",
    "        <title>BeautifulSoup test</test>\n",
    "    </head>\n",
    "    <body>\n",
    "        <div id  = 'upper' class ='test' custom='good'>\n",
    "            <h3 title=\"Good Content Title\"> Content Title</h3>\n",
    "            <p>Test contents</p>\n",
    "        </div>\n",
    "        <div id = 'lower' class='test' custom='nice'>\n",
    "            <p>Test Test Test 1</p>\n",
    "            <p>Test Test Test 2</p>\n",
    "            <p>Test Test Test 3</p>\n",
    "        </div>\n",
    "    </body>\n",
    "</html>'''\n",
    "\n",
    "print(html)\n"
   ],
   "cell_type": "code",
   "metadata": {},
   "execution_count": 15,
   "outputs": [
    {
     "output_type": "stream",
     "name": "stdout",
     "text": [
      "\n<html>\n    <head>\n        <title>BeautifulSoup test</test>\n    </head>\n    <body>\n        <div id  = 'upper' class ='test' custom='good'>\n            <h3 title=\"Good Content Title\"> Content Title</h3>\n            <p>Test contents</p>\n        </div>\n        <div id = 'lower' class='test' custom='nice'>\n            <p>Test Test Test 1</p>\n            <p>Test Test Test 2</p>\n            <p>Test Test Test 3</p>\n        </div>\n    </body>\n</html>\n"
     ]
    }
   ]
  },
  {
   "source": [
    "find 함수\n",
    "- 특정 html tag를 검색\n",
    "- 검색 조건을 명시하여 찾고자 하는 tag 검색"
   ],
   "cell_type": "markdown",
   "metadata": {}
  },
  {
   "cell_type": "code",
   "execution_count": 16,
   "metadata": {},
   "outputs": [],
   "source": [
    "soup = BeautifulSoup(html)\n"
   ]
  },
  {
   "cell_type": "code",
   "execution_count": 17,
   "metadata": {},
   "outputs": [
    {
     "output_type": "execute_result",
     "data": {
      "text/plain": [
       "<h3 title=\"Good Content Title\"> Content Title</h3>"
      ]
     },
     "metadata": {},
     "execution_count": 17
    }
   ],
   "source": [
    "soup.find('h3')"
   ]
  },
  {
   "cell_type": "code",
   "execution_count": 18,
   "metadata": {},
   "outputs": [
    {
     "output_type": "execute_result",
     "data": {
      "text/plain": [
       "<p>Test contents</p>"
      ]
     },
     "metadata": {},
     "execution_count": 18
    }
   ],
   "source": [
    "soup.find('p')"
   ]
  },
  {
   "cell_type": "code",
   "execution_count": 21,
   "metadata": {},
   "outputs": [
    {
     "output_type": "execute_result",
     "data": {
      "text/plain": [
       "<div class=\"test\" custom=\"good\" id=\"upper\">\n",
       "<h3 title=\"Good Content Title\"> Content Title</h3>\n",
       "<p>Test contents</p>\n",
       "</div>"
      ]
     },
     "metadata": {},
     "execution_count": 21
    }
   ],
   "source": [
    "soup.find('div',class_='test')"
   ]
  },
  {
   "cell_type": "code",
   "execution_count": 23,
   "metadata": {},
   "outputs": [
    {
     "output_type": "execute_result",
     "data": {
      "text/plain": [
       "<div class=\"test\" custom=\"good\" id=\"upper\">\n",
       "<h3 title=\"Good Content Title\"> Content Title</h3>\n",
       "<p>Test contents</p>\n",
       "</div>"
      ]
     },
     "metadata": {},
     "execution_count": 23
    }
   ],
   "source": [
    "attrs = { 'id' : 'upper', 'class' : 'test' }\n",
    "soup.find('div',attrs=attrs)"
   ]
  },
  {
   "source": [
    "find all 함수\n",
    "- find가 조건에 만족하는 하나의 tag만 검색한다면 find_all은 조건에 맞는 모든 tag를 리스트로 반환\n",
    " "
   ],
   "cell_type": "markdown",
   "metadata": {}
  },
  {
   "cell_type": "code",
   "execution_count": 24,
   "metadata": {},
   "outputs": [
    {
     "output_type": "execute_result",
     "data": {
      "text/plain": [
       "[<div class=\"test\" custom=\"good\" id=\"upper\">\n",
       " <h3 title=\"Good Content Title\"> Content Title</h3>\n",
       " <p>Test contents</p>\n",
       " </div>, <div class=\"test\" custom=\"nice\" id=\"lower\">\n",
       " <p>Test Test Test 1</p>\n",
       " <p>Test Test Test 2</p>\n",
       " <p>Test Test Test 3</p>\n",
       " </div>]"
      ]
     },
     "metadata": {},
     "execution_count": 24
    }
   ],
   "source": [
    "soup.find_all('div')"
   ]
  },
  {
   "cell_type": "code",
   "execution_count": 26,
   "metadata": {},
   "outputs": [
    {
     "output_type": "stream",
     "name": "stdout",
     "text": [
      "<h3 title=\"Good Content Title\"> Content Title</h3>\n"
     ]
    },
    {
     "output_type": "execute_result",
     "data": {
      "text/plain": [
       "' Content Title'"
      ]
     },
     "metadata": {},
     "execution_count": 26
    }
   ],
   "source": [
    "tag = soup.find('h3')\n",
    "print(tag)\n",
    "tag.getText()"
   ]
  },
  {
   "cell_type": "code",
   "execution_count": 27,
   "metadata": {},
   "outputs": [
    {
     "output_type": "stream",
     "name": "stdout",
     "text": [
      "<p>Test contents</p>\n"
     ]
    },
    {
     "output_type": "execute_result",
     "data": {
      "text/plain": [
       "'Test contents'"
      ]
     },
     "metadata": {},
     "execution_count": 27
    }
   ],
   "source": [
    "tag = soup.find('p')\n",
    "print(tag)\n",
    "tag.getText()"
   ]
  },
  {
   "cell_type": "code",
   "execution_count": 34,
   "metadata": {},
   "outputs": [
    {
     "output_type": "stream",
     "name": "stdout",
     "text": [
      "<div class=\"test\" custom=\"good\" id=\"upper\">\n<h3 title=\"Good Content Title\"> Content Title</h3>\n<p>Test contents</p>\n</div>\n"
     ]
    },
    {
     "output_type": "execute_result",
     "data": {
      "text/plain": [
       "'\\n Content Title\\nTest contents\\n'"
      ]
     },
     "metadata": {},
     "execution_count": 34
    }
   ],
   "source": [
    "tag = soup.find('div', id ='upper')\n",
    "print(tag)\n",
    "tag.getText() #child의 모든 택스트를 가져온다."
   ]
  },
  {
   "cell_type": "code",
   "execution_count": null,
   "metadata": {},
   "outputs": [],
   "source": [
    "attribute 값 추출하기\n",
    "- 경우에 따라 추출하고자 하는 값이 attribute에도 존재함\n",
    "- 이 경우에는 검색한 tag에 attribute 이름을 [] 연산을 통해 추출가능\n",
    "- 예) div.find('h3')['title']"
   ]
  },
  {
   "cell_type": "code",
   "execution_count": 37,
   "metadata": {},
   "outputs": [
    {
     "output_type": "stream",
     "name": "stdout",
     "text": [
      "<h3 title=\"Good Content Title\"> Content Title</h3>\n"
     ]
    },
    {
     "output_type": "execute_result",
     "data": {
      "text/plain": [
       "'Good Content Title'"
      ]
     },
     "metadata": {},
     "execution_count": 37
    }
   ],
   "source": [
    "tag = soup.find('h3')\n",
    "print(tag);\n",
    "tag['title'] #h3의 title의 attribute출력\n"
   ]
  },
  {
   "cell_type": "code",
   "execution_count": null,
   "metadata": {},
   "outputs": [],
   "source": []
  }
 ]
}